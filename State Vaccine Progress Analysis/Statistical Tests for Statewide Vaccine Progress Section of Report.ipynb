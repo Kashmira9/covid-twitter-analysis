{
 "cells": [
  {
   "cell_type": "markdown",
   "id": "09355c9c",
   "metadata": {},
   "source": [
    "# Statistical Tests for Statewide Vaccine Progress Section of Report"
   ]
  },
  {
   "cell_type": "markdown",
   "id": "1713762c",
   "metadata": {},
   "source": [
    "<li>Two-sample t-tests were performed</li>\n",
    "<li>Null Hypothesis: No statistically significant difference in mean sentiment before and after event</li>"
   ]
  },
  {
   "cell_type": "markdown",
   "id": "b4dd3494",
   "metadata": {},
   "source": [
    "## COVID-19 vaccine availability by age bracket"
   ]
  },
  {
   "cell_type": "markdown",
   "id": "c62fadfc",
   "metadata": {},
   "source": [
    "### 1. EUA of Pfizer vaccine issued for adolescents, 12-15 year olds"
   ]
  },
  {
   "cell_type": "markdown",
   "id": "8d77ef81",
   "metadata": {},
   "source": [
    "p > 0.05, which means that we fail to reject the null hypothesis and conclude that a significant difference does not exist"
   ]
  },
  {
   "cell_type": "code",
   "execution_count": 1,
   "id": "de8f2721",
   "metadata": {},
   "outputs": [
    {
     "name": "stdout",
     "output_type": "stream",
     "text": [
      "0.05281053808337061 0.060415665284980664\n",
      "0.8741199461143617\n"
     ]
    },
    {
     "data": {
      "text/plain": [
       "Ttest_indResult(statistic=0.44437481854548555, pvalue=0.6577513949779046)"
      ]
     },
     "execution_count": 1,
     "metadata": {},
     "output_type": "execute_result"
    }
   ],
   "source": [
    "import pandas as pd\n",
    "import numpy as np\n",
    "import scipy.stats as stats\n",
    "\n",
    "new_df = pd.read_csv('meansentimentbystate_event.csv')\n",
    "\n",
    "EUA_12_15yo_b = new_df.loc[(new_df['Before/After'] == 'One month before') & (new_df['Event'] == 'EUA for Pfizer vaccine for 12-15yo')]\n",
    "EUA_12_15yo_a = new_df.loc[(new_df['Before/After'] == 'One month after') & (new_df['Event'] == 'EUA for Pfizer vaccine for 12-15yo')]\n",
    "\n",
    "x = np.array(EUA_12_15yo_b['Mean Sentiment'])\n",
    "y = np.array(EUA_12_15yo_a['Mean Sentiment'])\n",
    "\n",
    "print(np.var(x), np.var(y))\n",
    "print(np.var(x)/np.var(y))\n",
    "stats.ttest_ind(a=x, b=y, equal_var=True)"
   ]
  },
  {
   "cell_type": "markdown",
   "id": "8e989ffe",
   "metadata": {},
   "source": [
    "### 2. EUA of Comirnaty issued for 16+"
   ]
  },
  {
   "cell_type": "markdown",
   "id": "2ae160eb",
   "metadata": {},
   "source": [
    "p > 0.05, which means that we fail to reject the null hypothesis and conclude that a significant difference does not exist"
   ]
  },
  {
   "cell_type": "code",
   "execution_count": 2,
   "id": "d3bc379c",
   "metadata": {},
   "outputs": [
    {
     "name": "stdout",
     "output_type": "stream",
     "text": [
      "0.04281375458591164 0.13562580169303806\n",
      "0.3156755871778147\n"
     ]
    },
    {
     "data": {
      "text/plain": [
       "Ttest_indResult(statistic=1.7005196047209021, pvalue=0.09217264569675973)"
      ]
     },
     "execution_count": 2,
     "metadata": {},
     "output_type": "execute_result"
    }
   ],
   "source": [
    "comirnaty_b = new_df.loc[(new_df['Before/After'] == 'One month before') & (new_df['Event'] == 'Comirnaty for 16yo+ FDA approval')]\n",
    "comirnaty_a = new_df.loc[(new_df['Before/After'] == 'One month after') & (new_df['Event'] == 'Comirnaty for 16yo+ FDA approval')]\n",
    "x = np.array(comirnaty_b['Mean Sentiment'])\n",
    "y = np.array(comirnaty_a['Mean Sentiment'])\n",
    "print(np.var(x), np.var(y))\n",
    "print(np.var(x)/np.var(y))\n",
    "stats.ttest_ind(a=x, b=y, equal_var=True)"
   ]
  },
  {
   "cell_type": "markdown",
   "id": "2f217ebf",
   "metadata": {},
   "source": [
    "### 3. Pfizer Booster for 65+, 18-64 at high-risk"
   ]
  },
  {
   "cell_type": "markdown",
   "id": "4533b449",
   "metadata": {},
   "source": [
    "p > 0.05, which means that we fail to reject the null hypothesis and conclude that a significant difference does not exist"
   ]
  },
  {
   "cell_type": "code",
   "execution_count": 3,
   "id": "5685b8d8",
   "metadata": {},
   "outputs": [
    {
     "name": "stdout",
     "output_type": "stream",
     "text": [
      "0.13883615644759187 0.07460995893894962\n",
      "1.8608260669489982\n"
     ]
    },
    {
     "data": {
      "text/plain": [
       "Ttest_indResult(statistic=0.7894574475001506, pvalue=0.43171256847029393)"
      ]
     },
     "execution_count": 3,
     "metadata": {},
     "output_type": "execute_result"
    }
   ],
   "source": [
    "pfizerbooster_b = new_df.loc[(new_df['Before/After'] == 'One month before') & (new_df['Event'] == 'Pfizer Booster for 65yo+ & 18-64 at high risk')]\n",
    "pfizerbooster_a = new_df.loc[(new_df['Before/After'] == 'One month after') & (new_df['Event'] == 'Pfizer Booster for 65yo+ & 18-64 at high risk')]\n",
    "x = np.array(pfizerbooster_b['Mean Sentiment'])\n",
    "y = np.array(pfizerbooster_a['Mean Sentiment'])\n",
    "print(np.var(x), np.var(y))\n",
    "print(np.var(x)/np.var(y))\n",
    "stats.ttest_ind(a=x, b=y, equal_var=True)"
   ]
  },
  {
   "cell_type": "markdown",
   "id": "3ed3fac4",
   "metadata": {},
   "source": [
    "### 4. EUA of Pfizer vaccine issued for children, 5-11 years old"
   ]
  },
  {
   "cell_type": "markdown",
   "id": "e8517bb6",
   "metadata": {},
   "source": [
    "p < 0.05, which means that we reject the null hypothesis and conclude that a significant difference does exist"
   ]
  },
  {
   "cell_type": "code",
   "execution_count": 4,
   "id": "babc2f85",
   "metadata": {},
   "outputs": [
    {
     "name": "stdout",
     "output_type": "stream",
     "text": [
      "0.06711237216949087 0.0588032112299724\n",
      "1.141304543845783\n"
     ]
    },
    {
     "data": {
      "text/plain": [
       "Ttest_indResult(statistic=-3.555663968604342, pvalue=0.0005777530999668665)"
      ]
     },
     "execution_count": 4,
     "metadata": {},
     "output_type": "execute_result"
    }
   ],
   "source": [
    "eua5_11_b = new_df.loc[(new_df['Before/After'] == 'One month before') & (new_df['Event'] == 'EUA for Pfizer vaccine for 5-11yo')]\n",
    "eua5_11_a = new_df.loc[(new_df['Before/After'] == 'One month after') & (new_df['Event'] == 'EUA for Pfizer vaccine for 5-11yo')]\n",
    "x = np.array(eua5_11_b['Mean Sentiment'])\n",
    "y = np.array(eua5_11_a['Mean Sentiment'])\n",
    "print(np.var(x), np.var(y))\n",
    "print(np.var(x)/np.var(y))\n",
    "stats.ttest_ind(a=x, b=y, equal_var=True)"
   ]
  },
  {
   "cell_type": "markdown",
   "id": "2dcfd217",
   "metadata": {},
   "source": [
    "## COVID Variants of Concern"
   ]
  },
  {
   "cell_type": "markdown",
   "id": "e2989b6c",
   "metadata": {},
   "source": [
    "### 1. Initial cases of the Gamma Variant"
   ]
  },
  {
   "cell_type": "markdown",
   "id": "f76b2717",
   "metadata": {},
   "source": [
    "p > 0.05, which means that we fail to reject the null hypothesis and conclude that a significant difference does not exist"
   ]
  },
  {
   "cell_type": "code",
   "execution_count": 5,
   "id": "95dba5ae",
   "metadata": {},
   "outputs": [
    {
     "name": "stdout",
     "output_type": "stream",
     "text": [
      "0.03876289484245502 0.03617216836680471\n",
      "1.0716220949039879\n"
     ]
    },
    {
     "data": {
      "text/plain": [
       "Ttest_indResult(statistic=-0.8153377335058878, pvalue=0.4168362474917261)"
      ]
     },
     "execution_count": 5,
     "metadata": {},
     "output_type": "execute_result"
    }
   ],
   "source": [
    "gamma_b = new_df.loc[(new_df['Before/After'] == 'One month before') & (new_df['Event'] == 'Gamma Variant')]\n",
    "gamma_a = new_df.loc[(new_df['Before/After'] == 'One month after') & (new_df['Event'] == 'Gamma Variant')]\n",
    "x = np.array(gamma_b['Mean Sentiment'])\n",
    "y = np.array(gamma_a['Mean Sentiment'])\n",
    "print(np.var(x), np.var(y))\n",
    "print(np.var(x)/np.var(y))\n",
    "stats.ttest_ind(a=x, b=y, equal_var=True)"
   ]
  },
  {
   "cell_type": "markdown",
   "id": "63bff29f",
   "metadata": {},
   "source": [
    "### 2. Initial cases of the Beta Variant"
   ]
  },
  {
   "cell_type": "markdown",
   "id": "a912bb85",
   "metadata": {},
   "source": [
    "p > 0.05, which means that we fail to reject the null hypothesis and conclude that a significant difference does not exist"
   ]
  },
  {
   "cell_type": "code",
   "execution_count": 6,
   "id": "b8c9e8c4",
   "metadata": {},
   "outputs": [
    {
     "name": "stdout",
     "output_type": "stream",
     "text": [
      "0.026798734394866575 0.03810960605015825\n",
      "0.7032015591973114\n"
     ]
    },
    {
     "data": {
      "text/plain": [
       "Ttest_indResult(statistic=-0.5568882125680231, pvalue=0.5788605925080398)"
      ]
     },
     "execution_count": 6,
     "metadata": {},
     "output_type": "execute_result"
    }
   ],
   "source": [
    "beta_b = new_df.loc[(new_df['Before/After'] == 'One month before') & (new_df['Event'] == 'Beta Variant')]\n",
    "beta_a = new_df.loc[(new_df['Before/After'] == 'One month after') & (new_df['Event'] == 'Beta Variant')]\n",
    "x = np.array(beta_b['Mean Sentiment'])\n",
    "y = np.array(beta_a['Mean Sentiment'])\n",
    "print(np.var(x), np.var(y))\n",
    "print(np.var(x)/np.var(y))\n",
    "stats.ttest_ind(a=x, b=y, equal_var=True)"
   ]
  },
  {
   "cell_type": "markdown",
   "id": "4d2a1de1",
   "metadata": {},
   "source": [
    "### 3. Initial Cases of the Delta Variant"
   ]
  },
  {
   "cell_type": "markdown",
   "id": "c77d7f1f",
   "metadata": {},
   "source": [
    "p > 0.05, which means that we fail to reject the null hypothesis and conclude that a significant difference does not exist"
   ]
  },
  {
   "cell_type": "code",
   "execution_count": 7,
   "id": "ccc88954",
   "metadata": {},
   "outputs": [
    {
     "name": "stdout",
     "output_type": "stream",
     "text": [
      "0.12345591474166683 0.040467584628188585\n",
      "3.0507359378120853\n"
     ]
    },
    {
     "data": {
      "text/plain": [
       "Ttest_indResult(statistic=-1.8308195176513484, pvalue=0.07010541156628106)"
      ]
     },
     "execution_count": 7,
     "metadata": {},
     "output_type": "execute_result"
    }
   ],
   "source": [
    "delta_b = new_df.loc[(new_df['Before/After'] == 'One month before') & (new_df['Event'] == 'Delta Variant')]\n",
    "delta_a = new_df.loc[(new_df['Before/After'] == 'One month after') & (new_df['Event'] == 'Delta Variant')]\n",
    "x = np.array(delta_b['Mean Sentiment'])\n",
    "y = np.array(delta_a['Mean Sentiment'])\n",
    "print(np.var(x), np.var(y))\n",
    "print(np.var(x)/np.var(y))\n",
    "stats.ttest_ind(a=x, b=y, equal_var=True)"
   ]
  },
  {
   "cell_type": "markdown",
   "id": "88c8a0fd",
   "metadata": {},
   "source": [
    "### 4. Initial Cases of the Omicron Variant"
   ]
  },
  {
   "cell_type": "markdown",
   "id": "1fc21495",
   "metadata": {},
   "source": [
    "p < 0.05, which means that we reject the null hypothesis and conclude that a significant difference does exist"
   ]
  },
  {
   "cell_type": "code",
   "execution_count": 8,
   "id": "668f53cc",
   "metadata": {},
   "outputs": [
    {
     "name": "stdout",
     "output_type": "stream",
     "text": [
      "0.056326545475833226 0.08087432657472256\n",
      "0.6964700401405037\n"
     ]
    },
    {
     "data": {
      "text/plain": [
       "Ttest_indResult(statistic=2.6556082515385224, pvalue=0.009241211749888107)"
      ]
     },
     "execution_count": 8,
     "metadata": {},
     "output_type": "execute_result"
    }
   ],
   "source": [
    "omicron_b = new_df.loc[(new_df['Before/After'] == 'One month before') & (new_df['Event'] == 'Omicron Variant')]\n",
    "omicron_a = new_df.loc[(new_df['Before/After'] == 'One month after') & (new_df['Event'] == 'Omicron Variant')]\n",
    "x = np.array(omicron_b['Mean Sentiment'])\n",
    "y = np.array(omicron_a['Mean Sentiment'])\n",
    "print(np.var(x), np.var(y))\n",
    "print(np.var(x)/np.var(y))\n",
    "stats.ttest_ind(a=x, b=y, equal_var=True)"
   ]
  },
  {
   "cell_type": "markdown",
   "id": "5f1d13aa",
   "metadata": {},
   "source": [
    "## Pause in Vaccine Use"
   ]
  },
  {
   "cell_type": "markdown",
   "id": "aeacb8a0",
   "metadata": {},
   "source": [
    "### 1. Pause in Use of the Johnson & Johnson Vaccine"
   ]
  },
  {
   "cell_type": "markdown",
   "id": "bcb8a1fd",
   "metadata": {},
   "source": [
    "p > 0.05, which means that we fail to reject the null hypothesis and conclude that a significant difference does not exist"
   ]
  },
  {
   "cell_type": "code",
   "execution_count": 9,
   "id": "faf16e88",
   "metadata": {},
   "outputs": [
    {
     "name": "stdout",
     "output_type": "stream",
     "text": [
      "0.034034987398303615 0.06611107364147988\n",
      "0.5148152272170806\n"
     ]
    },
    {
     "data": {
      "text/plain": [
       "Ttest_indResult(statistic=1.6290253643479, pvalue=0.10648574994126875)"
      ]
     },
     "execution_count": 9,
     "metadata": {},
     "output_type": "execute_result"
    }
   ],
   "source": [
    "jjpause_b = new_df.loc[(new_df['Before/After'] == 'One month before') & (new_df['Event'] == 'Pause in J&J')]\n",
    "jjpause_a = new_df.loc[(new_df['Before/After'] == 'One month after') & (new_df['Event'] == 'Pause in J&J')]\n",
    "x = np.array(jjpause_b['Mean Sentiment'])\n",
    "y = np.array(jjpause_a['Mean Sentiment'])\n",
    "print(np.var(x), np.var(y))\n",
    "print(np.var(x)/np.var(y))\n",
    "stats.ttest_ind(a=x, b=y, equal_var=True)"
   ]
  },
  {
   "cell_type": "code",
   "execution_count": null,
   "id": "0735c680",
   "metadata": {},
   "outputs": [],
   "source": []
  }
 ],
 "metadata": {
  "kernelspec": {
   "display_name": "Python 3 (ipykernel)",
   "language": "python",
   "name": "python3"
  },
  "language_info": {
   "codemirror_mode": {
    "name": "ipython",
    "version": 3
   },
   "file_extension": ".py",
   "mimetype": "text/x-python",
   "name": "python",
   "nbconvert_exporter": "python",
   "pygments_lexer": "ipython3",
   "version": "3.9.6"
  }
 },
 "nbformat": 4,
 "nbformat_minor": 5
}
